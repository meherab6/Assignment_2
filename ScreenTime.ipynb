{
  "nbformat": 4,
  "nbformat_minor": 0,
  "metadata": {
    "colab": {
      "provenance": [],
      "authorship_tag": "ABX9TyOe7TbMag2yi1XMcPt/rz1r",
      "include_colab_link": true
    },
    "kernelspec": {
      "name": "python3",
      "display_name": "Python 3"
    },
    "language_info": {
      "name": "python"
    }
  },
  "cells": [
    {
      "cell_type": "markdown",
      "metadata": {
        "id": "view-in-github",
        "colab_type": "text"
      },
      "source": [
        "<a href=\"https://colab.research.google.com/github/meherab6/Assignment_2/blob/main/ScreenTime.ipynb\" target=\"_parent\"><img src=\"https://colab.research.google.com/assets/colab-badge.svg\" alt=\"Open In Colab\"/></a>"
      ]
    },
    {
      "cell_type": "code",
      "execution_count": null,
      "metadata": {
        "id": "Vg2frvK6nmhU"
      },
      "outputs": [],
      "source": [
        "import pandas as pd\n",
        "import numpy as np\n",
        "import matplotlib.pyplot as plt\n"
      ]
    },
    {
      "cell_type": "code",
      "source": [
        "# Load Datasets\n",
        "demo_data = pd.read_csv('/content/dataset1.csv')\n",
        "screen_time_data = pd.read_csv('/content/dataset2.csv')\n",
        "wellbeing_data = pd.read_csv('/content/dataset3.csv')\n"
      ],
      "metadata": {
        "id": "NpHAK__2oZ1O"
      },
      "execution_count": null,
      "outputs": []
    },
    {
      "cell_type": "code",
      "source": [
        "# first few rows of each dataset\n",
        "print(demo_data.head())\n",
        "print(screen_time_data.head())\n",
        "print(wellbeing_data.head())\n"
      ],
      "metadata": {
        "id": "hI9RCcI_oZyl"
      },
      "execution_count": null,
      "outputs": []
    },
    {
      "cell_type": "code",
      "source": [
        "# Mode for nominal data\n",
        "most_frequent_gender = demo_data['gender'].mode()[0]\n",
        "most_frequent_minority_status = demo_data['minority'].mode()[0]\n",
        "most_frequent_deprivation_status = demo_data['deprived'].mode()[0]\n",
        "print(f'Most common gender: {most_frequent_gender}')\n",
        "print(f'Most common minority status: {most_frequent_minority_status}')\n",
        "print(f'Most common deprivation status: {most_frequent_deprivation_status}')\n"
      ],
      "metadata": {
        "id": "NSX7sjQeoZwR"
      },
      "execution_count": null,
      "outputs": []
    },
    {
      "cell_type": "code",
      "source": [
        "# Frequency distribution for nominal data\n",
        "gender_counts = demo_data['gender'].value_counts()\n",
        "minority_counts = demo_data['minority'].value_counts()\n",
        "deprivation_counts = demo_data['deprived'].value_counts()\n",
        "print('Gender distribution:\\n', gender_counts)\n",
        "print('Minority status distribution:\\n', minority_counts)\n",
        "print('Deprivation status distribution:\\n', deprivation_counts)"
      ],
      "metadata": {
        "id": "BDOn7Ta4oZt8"
      },
      "execution_count": null,
      "outputs": []
    },
    {
      "cell_type": "code",
      "source": [
        "# Mean, Median, Mode, Range, Variance, and Standard Deviation - screen time variable\n",
        "screen_time_vars = ['C_we', 'C_wk', 'G_we', 'G_wk', 'S_we', 'S_wk', 'T_we', 'T_wk']\n",
        "\n",
        "for var in screen_time_vars:\n",
        "    avg = screen_time_data[var].mean()\n",
        "    med = screen_time_data[var].median()\n",
        "    most_common_value = screen_time_data[var].mode()[0]\n",
        "    span = screen_time_data[var].max() - screen_time_data[var].min()\n",
        "    var_value = screen_time_data[var].var()\n",
        "    std_dev_value = screen_time_data[var].std()\n",
        "    print(f'{var} - Mean: {avg}, Median: {med}, Mode: {most_common_value}')\n",
        "    print(f'{var} - Range: {span}, Variance: {var_value}, Standard Deviation: {std_dev_value}\\n')\n"
      ],
      "metadata": {
        "id": "CxftyiR9oZrk"
      },
      "execution_count": null,
      "outputs": []
    },
    {
      "cell_type": "code",
      "source": [
        "# histograms - screen time\n",
        "for var in screen_time_vars:\n",
        "    plt.figure(figsize=(8, 4))\n",
        "    plt.hist(screen_time_data[var], bins=20, color='skyblue', edgecolor='black')\n",
        "    plt.title(f'Distribution of {var}')\n",
        "    plt.xlabel('Hours per Day')\n",
        "    plt.ylabel('Frequency')\n",
        "    plt.show()"
      ],
      "metadata": {
        "id": "iDqye2RCoZpf"
      },
      "execution_count": null,
      "outputs": []
    },
    {
      "cell_type": "code",
      "source": [
        "# List of well-being indicators\n",
        "wellbeing_vars = ['Optm', 'Usef', 'Relx', 'Intp', 'Engs', 'Dealpr', 'Thcklr', 'Goodme', 'Clsep',\n",
        "                      'Conf', 'Mkmind', 'Loved', 'Intthg', 'Cheer']\n",
        "\n",
        "# Median and Mode - well-being indicators\n",
        "for var in wellbeing_vars:\n",
        "    med_value = wellbeing_data[var].median()\n",
        "    most_common_score = wellbeing_data[var].mode()[0]  # Mode might have more than one value; we take the first\n",
        "\n",
        "    print(f'{var} - Median: {med_value}, Mode: {most_common_score}')"
      ],
      "metadata": {
        "id": "Ni-_TK76oZnI"
      },
      "execution_count": null,
      "outputs": []
    },
    {
      "cell_type": "code",
      "source": [
        "# Frequency distribution - well-being indicator\n",
        "for var in wellbeing_vars:\n",
        "    print(f'Distribution for {var}:')\n",
        "    print(wellbeing_data[var].value_counts())\n",
        "    print()\n",
        "\n"
      ],
      "metadata": {
        "id": "fhfYzf9JoZkx"
      },
      "execution_count": null,
      "outputs": []
    },
    {
      "cell_type": "code",
      "source": [
        "# histograms - well-being indicator\n",
        "for var in wellbeing_vars:\n",
        "    plt.figure(figsize=(8, 4))\n",
        "    plt.hist(wellbeing_data[var], bins=5, color='lightgreen', edgecolor='black')\n",
        "    plt.title(f'Distribution of {var}')\n",
        "    plt.xlabel('Score')\n",
        "    plt.ylabel('Frequency')\n",
        "    plt.show()\n"
      ],
      "metadata": {
        "id": "at5HIthxoZic"
      },
      "execution_count": null,
      "outputs": []
    },
    {
      "cell_type": "code",
      "source": [],
      "metadata": {
        "id": "clfMpFRdoZgH"
      },
      "execution_count": null,
      "outputs": []
    },
    {
      "cell_type": "code",
      "source": [],
      "metadata": {
        "id": "qB8ZKoL-oZd1"
      },
      "execution_count": null,
      "outputs": []
    },
    {
      "cell_type": "code",
      "source": [],
      "metadata": {
        "id": "YS-eAu44oZbY"
      },
      "execution_count": null,
      "outputs": []
    },
    {
      "cell_type": "code",
      "source": [],
      "metadata": {
        "id": "gySj_oBBoZY3"
      },
      "execution_count": null,
      "outputs": []
    },
    {
      "cell_type": "code",
      "source": [],
      "metadata": {
        "id": "l0pMkxMzoZWa"
      },
      "execution_count": null,
      "outputs": []
    }
  ]
}